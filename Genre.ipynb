{
 "cells": [
  {
   "cell_type": "code",
   "execution_count": 1,
   "id": "168dd223",
   "metadata": {
    "_cell_guid": "b1076dfc-b9ad-4769-8c92-a6c4dae69d19",
    "_uuid": "8f2839f25d086af736a60e9eeb907d3b93b6e0e5",
    "execution": {
     "iopub.execute_input": "2024-05-31T00:26:29.106217Z",
     "iopub.status.busy": "2024-05-31T00:26:29.105755Z",
     "iopub.status.idle": "2024-05-31T00:26:30.183892Z",
     "shell.execute_reply": "2024-05-31T00:26:30.182768Z"
    },
    "papermill": {
     "duration": 1.08733,
     "end_time": "2024-05-31T00:26:30.186412",
     "exception": false,
     "start_time": "2024-05-31T00:26:29.099082",
     "status": "completed"
    },
    "tags": []
   },
   "outputs": [
    {
     "name": "stdout",
     "output_type": "stream",
     "text": [
      "/kaggle/input/genre-classification-dataset-imdb/Genre Classification Dataset/description.txt\n",
      "/kaggle/input/genre-classification-dataset-imdb/Genre Classification Dataset/test_data_solution.txt\n",
      "/kaggle/input/genre-classification-dataset-imdb/Genre Classification Dataset/test_data.txt\n",
      "/kaggle/input/genre-classification-dataset-imdb/Genre Classification Dataset/train_data.txt\n"
     ]
    }
   ],
   "source": [
    "import numpy as np\n",
    "import pandas as pd\n",
    "\n",
    "import os\n",
    "for dirname, _, filenames in os.walk('/kaggle/input'):\n",
    "    for filename in filenames:\n",
    "        print(os.path.join(dirname, filename))\n"
   ]
  },
  {
   "cell_type": "code",
   "execution_count": 2,
   "id": "d87ff540",
   "metadata": {
    "execution": {
     "iopub.execute_input": "2024-05-31T00:26:30.197586Z",
     "iopub.status.busy": "2024-05-31T00:26:30.197063Z",
     "iopub.status.idle": "2024-05-31T00:26:30.204377Z",
     "shell.execute_reply": "2024-05-31T00:26:30.203250Z"
    },
    "papermill": {
     "duration": 0.015554,
     "end_time": "2024-05-31T00:26:30.206788",
     "exception": false,
     "start_time": "2024-05-31T00:26:30.191234",
     "status": "completed"
    },
    "tags": []
   },
   "outputs": [],
   "source": [
    "def load_and_preprocess(filepath, is_test=False):\n",
    "    data = pd.read_csv(filepath, delimiter=' ::: ', engine='python', header=None)\n",
    "    if is_test:\n",
    "        data.columns = ['ID', 'TITLE', 'DESCRIPTION']\n",
    "    else:\n",
    "        data.columns = ['ID', 'TITLE', 'GENRE', 'DESCRIPTION']\n",
    "    data['DESCRIPTION'] = data['DESCRIPTION'].str.lower().str.replace('[^\\w\\s]', '', regex=True)\n",
    "    return data"
   ]
  },
  {
   "cell_type": "code",
   "execution_count": 3,
   "id": "27d4593e",
   "metadata": {
    "execution": {
     "iopub.execute_input": "2024-05-31T00:26:30.217775Z",
     "iopub.status.busy": "2024-05-31T00:26:30.217337Z",
     "iopub.status.idle": "2024-05-31T00:26:37.487147Z",
     "shell.execute_reply": "2024-05-31T00:26:37.485797Z"
    },
    "papermill": {
     "duration": 7.278627,
     "end_time": "2024-05-31T00:26:37.490011",
     "exception": false,
     "start_time": "2024-05-31T00:26:30.211384",
     "status": "completed"
    },
    "tags": []
   },
   "outputs": [],
   "source": [
    "train_data = load_and_preprocess('/kaggle/input/genre-classification-dataset-imdb/Genre Classification Dataset/train_data.txt')\n",
    "test_data = load_and_preprocess('/kaggle/input/genre-classification-dataset-imdb/Genre Classification Dataset/test_data.txt', is_test=True)\n",
    "test_solution_data = load_and_preprocess('/kaggle/input/genre-classification-dataset-imdb/Genre Classification Dataset/test_data_solution.txt')"
   ]
  },
  {
   "cell_type": "code",
   "execution_count": 4,
   "id": "a31b91e2",
   "metadata": {
    "execution": {
     "iopub.execute_input": "2024-05-31T00:26:37.500867Z",
     "iopub.status.busy": "2024-05-31T00:26:37.500429Z",
     "iopub.status.idle": "2024-05-31T00:26:37.506560Z",
     "shell.execute_reply": "2024-05-31T00:26:37.505190Z"
    },
    "papermill": {
     "duration": 0.014354,
     "end_time": "2024-05-31T00:26:37.508930",
     "exception": false,
     "start_time": "2024-05-31T00:26:37.494576",
     "status": "completed"
    },
    "tags": []
   },
   "outputs": [],
   "source": [
    "X_train = train_data['DESCRIPTION']\n",
    "y_train = train_data['GENRE']\n",
    "X_test = test_data['DESCRIPTION']\n",
    "y_test = test_solution_data['GENRE']"
   ]
  },
  {
   "cell_type": "code",
   "execution_count": 5,
   "id": "1d2d4233",
   "metadata": {
    "execution": {
     "iopub.execute_input": "2024-05-31T00:26:37.519621Z",
     "iopub.status.busy": "2024-05-31T00:26:37.519234Z",
     "iopub.status.idle": "2024-05-31T00:26:37.530311Z",
     "shell.execute_reply": "2024-05-31T00:26:37.529047Z"
    },
    "papermill": {
     "duration": 0.019425,
     "end_time": "2024-05-31T00:26:37.532801",
     "exception": false,
     "start_time": "2024-05-31T00:26:37.513376",
     "status": "completed"
    },
    "tags": []
   },
   "outputs": [
    {
     "data": {
      "text/plain": [
       "0        listening in to a conversation between his doc...\n",
       "1        a brother and sister with a past incestuous re...\n",
       "2        as the bus empties the students for their fiel...\n",
       "3        to help their unemployed father make ends meet...\n",
       "4        the films title refers not only to the unrecov...\n",
       "                               ...                        \n",
       "54209    this shortlived nbc live sitcom centered on bo...\n",
       "54210    the next generation of exploitation the sister...\n",
       "54211    ze bestaan echt is a standup comedy about grow...\n",
       "54212    walter and vivian live in the country and have...\n",
       "54213    on labor day weekend 1935 the most intense hur...\n",
       "Name: DESCRIPTION, Length: 54214, dtype: object"
      ]
     },
     "execution_count": 5,
     "metadata": {},
     "output_type": "execute_result"
    }
   ],
   "source": [
    "X_train"
   ]
  },
  {
   "cell_type": "code",
   "execution_count": 6,
   "id": "ac82f197",
   "metadata": {
    "execution": {
     "iopub.execute_input": "2024-05-31T00:26:37.542795Z",
     "iopub.status.busy": "2024-05-31T00:26:37.542363Z",
     "iopub.status.idle": "2024-05-31T00:26:37.584891Z",
     "shell.execute_reply": "2024-05-31T00:26:37.583646Z"
    },
    "papermill": {
     "duration": 0.05173,
     "end_time": "2024-05-31T00:26:37.587354",
     "exception": false,
     "start_time": "2024-05-31T00:26:37.535624",
     "status": "completed"
    },
    "tags": []
   },
   "outputs": [],
   "source": [
    "from sklearn.feature_extraction.text import TfidfVectorizer\n",
    "vectorizer = TfidfVectorizer(max_features=5000)\n",
    "X_train_tfidf = vectorizer.fit_transform(X_train)\n",
    "X_test_tfidf = vectorizer.transform(X_test)"
   ]
  },
  {
   "cell_type": "code",
   "execution_count": 7,
   "id": "66baf17a",
   "metadata": {
    "execution": {
     "iopub.execute_input": "2024-05-31T00:26:37.595689Z",
     "iopub.status.busy": "2024-05-31T00:26:37.595232Z",
     "iopub.status.idle": "2024-05-31T00:26:38.051274Z",
     "shell.execute_reply": "2024-05-31T00:26:38.050042Z"
    },
    "papermill": {
     "duration": 0.461544,
     "end_time": "2024-05-31T00:26:38.053803",
     "exception": false,
     "start_time": "2024-05-31T00:26:37.592259",
     "status": "completed"
    },
    "tags": []
   },
   "outputs": [],
   "source": [
    "from sklearn.linear_model import LogisticRegression\n",
    "model = LogisticRegression(max_iter=1000)\n",
    "model.fit(X_train_tfidf, y_train)"
   ]
  },
  {
   "cell_type": "code",
   "execution_count": 8,
   "id": "062d153e",
   "metadata": {
    "execution": {
     "iopub.execute_input": "2024-05-31T00:26:38.060825Z",
     "iopub.status.busy": "2024-05-31T00:26:38.060377Z",
     "iopub.status.idle": "2024-05-31T00:26:38.079636Z",
     "shell.execute_reply": "2024-05-31T00:26:38.078371Z"
    },
    "papermill": {
     "duration": 0.021591,
     "end_time": "2024-05-31T00:26:38.082097",
     "exception": false,
     "start_time": "2024-05-31T00:26:38.056622",
     "status": "completed"
    },
    "tags": []
   },
   "outputs": [],
   "source": [
    "y_pred = model.predict(X_test_tfidf)"
   ]
  },
  {
   "cell_type": "code",
   "execution_count": 9,
   "id": "a881ff27",
   "metadata": {
    "execution": {
     "iopub.execute_input": "2024-05-31T00:26:38.091407Z",
     "iopub.status.busy": "2024-05-31T00:26:38.090979Z",
     "iopub.status.idle": "2024-05-31T00:26:38.131967Z",
     "shell.execute_reply": "2024-05-31T00:26:38.130816Z"
    },
    "papermill": {
     "duration": 0.046123,
     "end_time": "2024-05-31T00:26:38.134480",
     "exception": false,
     "start_time": "2024-05-31T00:26:38.085355",
     "status": "completed"
    },
    "tags": []
   },
   "outputs": [
    {
     "data": {
      "text/plain": [
       "0.6189302362506517"
      ]
     },
     "execution_count": 9,
     "metadata": {},
     "output_type": "execute_result"
    }
   ],
   "source": [
    "from sklearn.metrics import accuracy_score\n",
    "accuracy = accuracy_score(y_test, y_pred)\n",
    "accuracy"
   ]
  },
  {
   "cell_type": "code",
   "execution_count": 10,
   "id": "66bc91b5",
   "metadata": {
    "execution": {
     "iopub.execute_input": "2024-05-31T00:26:38.144544Z",
     "iopub.status.busy": "2024-05-31T00:26:38.144102Z",
     "iopub.status.idle": "2024-05-31T00:26:38.187224Z",
     "shell.execute_reply": "2024-05-31T00:26:38.186065Z"
    },
    "papermill": {
     "duration": 0.048656,
     "end_time": "2024-05-31T00:26:38.189781",
     "exception": false,
     "start_time": "2024-05-31T00:26:38.138573",
     "status": "completed"
    },
    "tags": []
   },
   "outputs": [],
   "source": [
    "import matplotlib.pyplot as plt\n",
    "from sklearn.metrics import confusion_matrix\n",
    "import seaborn as sns\n",
    "cm = confusion_matrix(y_test, y_pred)\n",
    "plt.figure(figsize=(12, 8))\n",
    "sns.heatmap(cm, annot=True, fmt='d', cmap='Blues', xticklabels=model.classes_, yticklabels=model.classes_)\n",
    "plt.xlabel('Predicted')\n",
    "plt.ylabel('Actual')\n",
    "plt.title('Confusion Matrix')\n",
    "plt.show()"
   ]
  }
 ],
 "metadata": {
  "kernelspec": {
   "display_name": "Python 3",
   "language": "python",
   "name": "python3"
  },
  "language_info": {
   "codemirror_mode": {
    "name": "ipython",
    "version": 3
   },
   "file_extension": ".py",
   "mimetype": "text/x-python",
   "name": "python",
   "nbconvert_exporter": "python",
   "pygments_lexer": "ipython3",
   "version": "3.9.13"
  },
  "papermill": {
   "default_parameters": {},
   "duration": 9.102325,
   "end_time": "2024-05-31T00:26:38.195493",
   "environment_variables": {},
   "exception": false,
   "start_time": "2024-05-31T00:26:29.093168",
   "status": "completed"
  }
 },
 "nbformat": 4,
 "nbformat_minor": 5
}
