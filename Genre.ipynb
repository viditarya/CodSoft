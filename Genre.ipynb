{
 "cells": [
  {
   "cell_type": "code",
   "execution_count": 1,
   "id": "168dd223",
   "metadata": {
    "_cell_guid": "b1076dfc-b9ad-4769-8c92-a6c4dae69d19",
    "_uuid": "8f2839f25d086af736a60e9eeb907d3b93b6e0e5",
    "execution": {
     "iopub.execute_input": "2024-05-31T00:26:29.106217Z",
     "iopub.status.busy": "2024-05-31T00:26:29.105755Z",
     "iopub.status.idle": "2024-05-31T00:26:30.183892Z",
     "shell.execute_reply": "2024-05-31T00:26:30.182768Z"
    },
    "papermill": {
     "duration": 1.08733,
     "end_time": "2024-05-31T00:26:30.186412",
     "exception": false,
     "start_time": "2024-05-31T00:26:29.099082",
     "status": "completed"
    },
    "tags": []
   },
   "outputs": [
    {
     "name": "stdout",
     "output_type": "stream",
     "text": [
      "/kaggle/input/genre-classification-dataset-imdb/Genre Classification Dataset/description.txt\n",
      "/kaggle/input/genre-classification-dataset-imdb/Genre Classification Dataset/test_data_solution.txt\n",
      "/kaggle/input/genre-classification-dataset-imdb/Genre Classification Dataset/test_data.txt\n",
      "/kaggle/input/genre-classification-dataset-imdb/Genre Classification Dataset/train_data.txt\n"
     ]
    }
   ],
   "source": [
    "# This Python 3 environment comes with many helpful analytics libraries installed\n",
    "# It is defined by the kaggle/python Docker image: https://github.com/kaggle/docker-python\n",
    "# For example, here's several helpful packages to load\n",
    "\n",
    "import numpy as np # linear algebra\n",
    "import pandas as pd # data processing, CSV file I/O (e.g. pd.read_csv)\n",
    "\n",
    "# Input data files are available in the read-only \"../input/\" directory\n",
    "# For example, running this (by clicking run or pressing Shift+Enter) will list all files under the input directory\n",
    "\n",
    "import os\n",
    "for dirname, _, filenames in os.walk('/kaggle/input'):\n",
    "    for filename in filenames:\n",
    "        print(os.path.join(dirname, filename))\n",
    "\n",
    "# You can write up to 20GB to the current directory (/kaggle/working/) that gets preserved as output when you create a version using \"Save & Run All\" \n",
    "# You can also write temporary files to /kaggle/temp/, but they won't be saved outside of the current session"
   ]
  },
  {
   "cell_type": "code",
   "execution_count": 2,
   "id": "d87ff540",
   "metadata": {
    "execution": {
     "iopub.execute_input": "2024-05-31T00:26:30.197586Z",
     "iopub.status.busy": "2024-05-31T00:26:30.197063Z",
     "iopub.status.idle": "2024-05-31T00:26:30.204377Z",
     "shell.execute_reply": "2024-05-31T00:26:30.203250Z"
    },
    "papermill": {
     "duration": 0.015554,
     "end_time": "2024-05-31T00:26:30.206788",
     "exception": false,
     "start_time": "2024-05-31T00:26:30.191234",
     "status": "completed"
    },
    "tags": []
   },
   "outputs": [],
   "source": [
    "def load_and_preprocess(filepath, is_test=False):\n",
    "    data = pd.read_csv(filepath, delimiter=' ::: ', engine='python', header=None)\n",
    "    if is_test:\n",
    "        data.columns = ['ID', 'TITLE', 'DESCRIPTION']\n",
    "    else:\n",
    "        data.columns = ['ID', 'TITLE', 'GENRE', 'DESCRIPTION']\n",
    "    data['DESCRIPTION'] = data['DESCRIPTION'].str.lower().str.replace('[^\\w\\s]', '', regex=True)\n",
    "    return data"
   ]
  },
  {
   "cell_type": "code",
   "execution_count": 3,
   "id": "27d4593e",
   "metadata": {
    "execution": {
     "iopub.execute_input": "2024-05-31T00:26:30.217775Z",
     "iopub.status.busy": "2024-05-31T00:26:30.217337Z",
     "iopub.status.idle": "2024-05-31T00:26:37.487147Z",
     "shell.execute_reply": "2024-05-31T00:26:37.485797Z"
    },
    "papermill": {
     "duration": 7.278627,
     "end_time": "2024-05-31T00:26:37.490011",
     "exception": false,
     "start_time": "2024-05-31T00:26:30.211384",
     "status": "completed"
    },
    "tags": []
   },
   "outputs": [],
   "source": [
    "train_data = load_and_preprocess('/kaggle/input/genre-classification-dataset-imdb/Genre Classification Dataset/train_data.txt')\n",
    "test_data = load_and_preprocess('/kaggle/input/genre-classification-dataset-imdb/Genre Classification Dataset/test_data.txt', is_test=True)\n",
    "test_solution_data = load_and_preprocess('/kaggle/input/genre-classification-dataset-imdb/Genre Classification Dataset/test_data_solution.txt')"
   ]
  },
  {
   "cell_type": "code",
   "execution_count": 4,
   "id": "a31b91e2",
   "metadata": {
    "execution": {
     "iopub.execute_input": "2024-05-31T00:26:37.500867Z",
     "iopub.status.busy": "2024-05-31T00:26:37.500429Z",
     "iopub.status.idle": "2024-05-31T00:26:37.506560Z",
     "shell.execute_reply": "2024-05-31T00:26:37.505190Z"
    },
    "papermill": {
     "duration": 0.014354,
     "end_time": "2024-05-31T00:26:37.508930",
     "exception": false,
     "start_time": "2024-05-31T00:26:37.494576",
     "status": "completed"
    },
    "tags": []
   },
   "outputs": [],
   "source": [
    "X_train = train_data['DESCRIPTION']\n",
    "y_train = train_data['GENRE']\n",
    "X_test = test_data['DESCRIPTION']\n",
    "y_test = test_solution_data['GENRE']"
   ]
  },
  {
   "cell_type": "code",
   "execution_count": 5,
   "id": "1d2d4233",
   "metadata": {
    "execution": {
     "iopub.execute_input": "2024-05-31T00:26:37.519621Z",
     "iopub.status.busy": "2024-05-31T00:26:37.519234Z",
     "iopub.status.idle": "2024-05-31T00:26:37.530311Z",
     "shell.execute_reply": "2024-05-31T00:26:37.529047Z"
    },
    "papermill": {
     "duration": 0.019425,
     "end_time": "2024-05-31T00:26:37.532801",
     "exception": false,
     "start_time": "2024-05-31T00:26:37.513376",
     "status": "completed"
    },
    "tags": []
   },
   "outputs": [
    {
     "data": {
      "text/plain": [
       "0        listening in to a conversation between his doc...\n",
       "1        a brother and sister with a past incestuous re...\n",
       "2        as the bus empties the students for their fiel...\n",
       "3        to help their unemployed father make ends meet...\n",
       "4        the films title refers not only to the unrecov...\n",
       "                               ...                        \n",
       "54209    this shortlived nbc live sitcom centered on bo...\n",
       "54210    the next generation of exploitation the sister...\n",
       "54211    ze bestaan echt is a standup comedy about grow...\n",
       "54212    walter and vivian live in the country and have...\n",
       "54213    on labor day weekend 1935 the most intense hur...\n",
       "Name: DESCRIPTION, Length: 54214, dtype: object"
      ]
     },
     "execution_count": 5,
     "metadata": {},
     "output_type": "execute_result"
    }
   ],
   "source": [
    "X_train"
   ]
  },
  {
   "cell_type": "code",
   "execution_count": 6,
   "id": "ac82f197",
   "metadata": {
    "execution": {
     "iopub.execute_input": "2024-05-31T00:26:37.544494Z",
     "iopub.status.busy": "2024-05-31T00:26:37.544109Z",
     "iopub.status.idle": "2024-05-31T00:26:52.237645Z",
     "shell.execute_reply": "2024-05-31T00:26:52.236280Z"
    },
    "papermill": {
     "duration": 14.702732,
     "end_time": "2024-05-31T00:26:52.240627",
     "exception": false,
     "start_time": "2024-05-31T00:26:37.537895",
     "status": "completed"
    },
    "tags": []
   },
   "outputs": [],
   "source": [
    "from sklearn.feature_extraction.text import TfidfVectorizer\n",
    "vectorizer = TfidfVectorizer(stop_words='english', max_df=0.7)\n",
    "X_train_tfidf = vectorizer.fit_transform(X_train)\n",
    "X_test_tfidf = vectorizer.transform(X_test)"
   ]
  },
  {
   "cell_type": "code",
   "execution_count": 7,
   "id": "378671a2",
   "metadata": {
    "execution": {
     "iopub.execute_input": "2024-05-31T00:26:52.252922Z",
     "iopub.status.busy": "2024-05-31T00:26:52.252435Z",
     "iopub.status.idle": "2024-05-31T00:26:52.992097Z",
     "shell.execute_reply": "2024-05-31T00:26:52.990902Z"
    },
    "papermill": {
     "duration": 0.748647,
     "end_time": "2024-05-31T00:26:52.994811",
     "exception": false,
     "start_time": "2024-05-31T00:26:52.246164",
     "status": "completed"
    },
    "tags": []
   },
   "outputs": [
    {
     "data": {
      "text/html": [
       "<style>#sk-container-id-1 {color: black;background-color: white;}#sk-container-id-1 pre{padding: 0;}#sk-container-id-1 div.sk-toggleable {background-color: white;}#sk-container-id-1 label.sk-toggleable__label {cursor: pointer;display: block;width: 100%;margin-bottom: 0;padding: 0.3em;box-sizing: border-box;text-align: center;}#sk-container-id-1 label.sk-toggleable__label-arrow:before {content: \"▸\";float: left;margin-right: 0.25em;color: #696969;}#sk-container-id-1 label.sk-toggleable__label-arrow:hover:before {color: black;}#sk-container-id-1 div.sk-estimator:hover label.sk-toggleable__label-arrow:before {color: black;}#sk-container-id-1 div.sk-toggleable__content {max-height: 0;max-width: 0;overflow: hidden;text-align: left;background-color: #f0f8ff;}#sk-container-id-1 div.sk-toggleable__content pre {margin: 0.2em;color: black;border-radius: 0.25em;background-color: #f0f8ff;}#sk-container-id-1 input.sk-toggleable__control:checked~div.sk-toggleable__content {max-height: 200px;max-width: 100%;overflow: auto;}#sk-container-id-1 input.sk-toggleable__control:checked~label.sk-toggleable__label-arrow:before {content: \"▾\";}#sk-container-id-1 div.sk-estimator input.sk-toggleable__control:checked~label.sk-toggleable__label {background-color: #d4ebff;}#sk-container-id-1 div.sk-label input.sk-toggleable__control:checked~label.sk-toggleable__label {background-color: #d4ebff;}#sk-container-id-1 input.sk-hidden--visually {border: 0;clip: rect(1px 1px 1px 1px);clip: rect(1px, 1px, 1px, 1px);height: 1px;margin: -1px;overflow: hidden;padding: 0;position: absolute;width: 1px;}#sk-container-id-1 div.sk-estimator {font-family: monospace;background-color: #f0f8ff;border: 1px dotted black;border-radius: 0.25em;box-sizing: border-box;margin-bottom: 0.5em;}#sk-container-id-1 div.sk-estimator:hover {background-color: #d4ebff;}#sk-container-id-1 div.sk-parallel-item::after {content: \"\";width: 100%;border-bottom: 1px solid gray;flex-grow: 1;}#sk-container-id-1 div.sk-label:hover label.sk-toggleable__label {background-color: #d4ebff;}#sk-container-id-1 div.sk-serial::before {content: \"\";position: absolute;border-left: 1px solid gray;box-sizing: border-box;top: 0;bottom: 0;left: 50%;z-index: 0;}#sk-container-id-1 div.sk-serial {display: flex;flex-direction: column;align-items: center;background-color: white;padding-right: 0.2em;padding-left: 0.2em;position: relative;}#sk-container-id-1 div.sk-item {position: relative;z-index: 1;}#sk-container-id-1 div.sk-parallel {display: flex;align-items: stretch;justify-content: center;background-color: white;position: relative;}#sk-container-id-1 div.sk-item::before, #sk-container-id-1 div.sk-parallel-item::before {content: \"\";position: absolute;border-left: 1px solid gray;box-sizing: border-box;top: 0;bottom: 0;left: 50%;z-index: -1;}#sk-container-id-1 div.sk-parallel-item {display: flex;flex-direction: column;z-index: 1;position: relative;background-color: white;}#sk-container-id-1 div.sk-parallel-item:first-child::after {align-self: flex-end;width: 50%;}#sk-container-id-1 div.sk-parallel-item:last-child::after {align-self: flex-start;width: 50%;}#sk-container-id-1 div.sk-parallel-item:only-child::after {width: 0;}#sk-container-id-1 div.sk-dashed-wrapped {border: 1px dashed gray;margin: 0 0.4em 0.5em 0.4em;box-sizing: border-box;padding-bottom: 0.4em;background-color: white;}#sk-container-id-1 div.sk-label label {font-family: monospace;font-weight: bold;display: inline-block;line-height: 1.2em;}#sk-container-id-1 div.sk-label-container {text-align: center;}#sk-container-id-1 div.sk-container {/* jupyter's `normalize.less` sets `[hidden] { display: none; }` but bootstrap.min.css set `[hidden] { display: none !important; }` so we also need the `!important` here to be able to override the default hidden behavior on the sphinx rendered scikit-learn.org. See: https://github.com/scikit-learn/scikit-learn/issues/21755 */display: inline-block !important;position: relative;}#sk-container-id-1 div.sk-text-repr-fallback {display: none;}</style><div id=\"sk-container-id-1\" class=\"sk-top-container\"><div class=\"sk-text-repr-fallback\"><pre>MultinomialNB()</pre><b>In a Jupyter environment, please rerun this cell to show the HTML representation or trust the notebook. <br />On GitHub, the HTML representation is unable to render, please try loading this page with nbviewer.org.</b></div><div class=\"sk-container\" hidden><div class=\"sk-item\"><div class=\"sk-estimator sk-toggleable\"><input class=\"sk-toggleable__control sk-hidden--visually\" id=\"sk-estimator-id-1\" type=\"checkbox\" checked><label for=\"sk-estimator-id-1\" class=\"sk-toggleable__label sk-toggleable__label-arrow\">MultinomialNB</label><div class=\"sk-toggleable__content\"><pre>MultinomialNB()</pre></div></div></div></div></div>"
      ],
      "text/plain": [
       "MultinomialNB()"
      ]
     },
     "execution_count": 7,
     "metadata": {},
     "output_type": "execute_result"
    }
   ],
   "source": [
    "from sklearn.naive_bayes import MultinomialNB\n",
    "nb_model = MultinomialNB()\n",
    "nb_model.fit(X_train_tfidf, y_train)"
   ]
  },
  {
   "cell_type": "code",
   "execution_count": 8,
   "id": "a941eca9",
   "metadata": {
    "execution": {
     "iopub.execute_input": "2024-05-31T00:26:53.006563Z",
     "iopub.status.busy": "2024-05-31T00:26:53.006150Z",
     "iopub.status.idle": "2024-05-31T00:26:53.206123Z",
     "shell.execute_reply": "2024-05-31T00:26:53.204757Z"
    },
    "papermill": {
     "duration": 0.209489,
     "end_time": "2024-05-31T00:26:53.209282",
     "exception": false,
     "start_time": "2024-05-31T00:26:52.999793",
     "status": "completed"
    },
    "tags": []
   },
   "outputs": [],
   "source": [
    "from sklearn.metrics import accuracy_score\n",
    "nb_predictions = nb_model.predict(X_test_tfidf)"
   ]
  },
  {
   "cell_type": "code",
   "execution_count": 9,
   "id": "63433a18",
   "metadata": {
    "execution": {
     "iopub.execute_input": "2024-05-31T00:26:53.221560Z",
     "iopub.status.busy": "2024-05-31T00:26:53.220377Z",
     "iopub.status.idle": "2024-05-31T00:26:53.306854Z",
     "shell.execute_reply": "2024-05-31T00:26:53.305612Z"
    },
    "papermill": {
     "duration": 0.095482,
     "end_time": "2024-05-31T00:26:53.309708",
     "exception": false,
     "start_time": "2024-05-31T00:26:53.214226",
     "status": "completed"
    },
    "tags": []
   },
   "outputs": [
    {
     "name": "stdout",
     "output_type": "stream",
     "text": [
      "Accuracy: 44.3948%\n"
     ]
    }
   ],
   "source": [
    "print(f\"Accuracy: {accuracy_score(y_test, nb_predictions)*100:.4f}%\")"
   ]
  },
  {
   "cell_type": "code",
   "execution_count": null,
   "id": "5c6c8643",
   "metadata": {
    "papermill": {
     "duration": 0.004575,
     "end_time": "2024-05-31T00:26:53.319364",
     "exception": false,
     "start_time": "2024-05-31T00:26:53.314789",
     "status": "completed"
    },
    "tags": []
   },
   "outputs": [],
   "source": []
  }
 ],
 "metadata": {
  "kaggle": {
   "accelerator": "none",
   "dataSources": [
    {
     "datasetId": 1417162,
     "sourceId": 2347441,
     "sourceType": "datasetVersion"
    }
   ],
   "dockerImageVersionId": 30698,
   "isGpuEnabled": false,
   "isInternetEnabled": true,
   "language": "python",
   "sourceType": "notebook"
  },
  "kernelspec": {
   "display_name": "Python 3",
   "language": "python",
   "name": "python3"
  },
  "language_info": {
   "codemirror_mode": {
    "name": "ipython",
    "version": 3
   },
   "file_extension": ".py",
   "mimetype": "text/x-python",
   "name": "python",
   "nbconvert_exporter": "python",
   "pygments_lexer": "ipython3",
   "version": "3.10.13"
  },
  "papermill": {
   "default_parameters": {},
   "duration": 28.190358,
   "end_time": "2024-05-31T00:26:54.047716",
   "environment_variables": {},
   "exception": null,
   "input_path": "__notebook__.ipynb",
   "output_path": "__notebook__.ipynb",
   "parameters": {},
   "start_time": "2024-05-31T00:26:25.857358",
   "version": "2.5.0"
  }
 },
 "nbformat": 4,
 "nbformat_minor": 5
}
